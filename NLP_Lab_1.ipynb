{
  "nbformat": 4,
  "nbformat_minor": 0,
  "metadata": {
    "colab": {
      "name": "NLP-Lab 1.ipynb",
      "provenance": [],
      "authorship_tag": "ABX9TyN43dVwvvx5JmIQJ+Jo5Ih3",
      "include_colab_link": true
    },
    "kernelspec": {
      "name": "python3",
      "display_name": "Python 3"
    }
  },
  "cells": [
    {
      "cell_type": "markdown",
      "metadata": {
        "id": "view-in-github",
        "colab_type": "text"
      },
      "source": [
        "<a href=\"https://colab.research.google.com/github/WybeTuring/DataScience-Project2/blob/main/NLP_Lab_1.ipynb\" target=\"_parent\"><img src=\"https://colab.research.google.com/assets/colab-badge.svg\" alt=\"Open In Colab\"/></a>"
      ]
    },
    {
      "cell_type": "markdown",
      "metadata": {
        "id": "o7-O6RqDoA1W"
      },
      "source": [
        "**Sentiment Classifier**"
      ]
    },
    {
      "cell_type": "markdown",
      "metadata": {
        "id": "Vc-LY4O6mYqX"
      },
      "source": [
        "This is an attempt to write a crude sentimental analysis function. The basic idea is to have a bag of words that could likely appear in a positive review, and those that could appear in a negative review. The task is then to check for the occurence of words that are labeled as positive and those that are labeled as negative. If the positive words occur more than the negative words, we can say that the review is a positive review. If the negative words appear more than positive words, the review is negative. The situation in which the number of negative and positive words is equal means that the review is a neutral review. One way this approach could be used to provide numbered ratings (-5, -4, -3, -2, -1, 0, 1, 2, 3, 4, 5) will be to quantify the amounts of negative/positive words with relation to the overall number of words in the review. "
      ]
    },
    {
      "cell_type": "markdown",
      "metadata": {
        "id": "zEsjxiKYoF5M"
      },
      "source": [
        "The proposed steps are as follows\r\n",
        "\r\n",
        "\r\n",
        "1.   Read the reviews from a text file\r\n",
        "2.   Create a dictionary of words that can potentially be found in a good review, and those that can potentially be found in a bad review. Where it makes sense, care is taken to use only the lemma of the words. So that it becomes more likely that we can not only detect exact occurences, but also variations. \r\n",
        "3.   Prepare the data such that each review is on a line, and convert the whole document to lower case. \r\n",
        "4.   For each line, pass a function that tries to classify the text.  \r\n",
        "5.   Write the review and it's classification to a new file\r\n",
        "\r\n"
      ]
    },
    {
      "cell_type": "code",
      "metadata": {
        "id": "KJUhgbd0w3dw"
      },
      "source": [
        "import pandas as pd "
      ],
      "execution_count": 12,
      "outputs": []
    },
    {
      "cell_type": "code",
      "metadata": {
        "id": "dXvtGiXEi24h"
      },
      "source": [
        "good_indicators = [\"elaborate\", \"effective\", \"like\", \"fun\", \"rare\", \"honest\", \"keen\", \"absolute\", \"refreshing\", \"different\", \"worth\", \"tender\",\r\n",
        "                   \"great\", \"compelling\", \"illuminate\", \"beautiful\", \"masterpiece\", \"ripe\", \"beauty\", \"true\", \"provocative\", \"thoughtful\",\r\n",
        "                   \"top\", \"lovely\", \"amazing\", \"amusing\", \"nice\", \"dedicated\", \"effective\", \"ideal\", \"idealistic\", \"move\", \"guaranteed\", \"masterful\", \"unique\",\r\n",
        "                   \"cute\", \"more\", \"distinguished\", \"distinctive\", \"master\",  ]\r\n",
        "bad_indicators = [\"not\", \"disturbing\", \"frightening\", \"lacks\", \"occasionally\", \"forgettable\", \"unfortunately\", \"static\", \"never\"]"
      ],
      "execution_count": 13,
      "outputs": []
    },
    {
      "cell_type": "markdown",
      "metadata": {
        "id": "LylvVTDpwL1t"
      },
      "source": [
        "The text file containing the reviews has been hosted on a Github repo, so here we read it. "
      ]
    },
    {
      "cell_type": "code",
      "metadata": {
        "id": "plOzw5avxDih"
      },
      "source": [
        "url = 'https://raw.githubusercontent.com/WybeTuring/DataScience-Project2/main/original_rt_snippets.txt'\r\n",
        "df = pd.read_csv(url, error_bad_lines=False, sep = '\\n' )"
      ],
      "execution_count": 5,
      "outputs": []
    },
    {
      "cell_type": "code",
      "metadata": {
        "colab": {
          "base_uri": "https://localhost:8080/",
          "height": 206
        },
        "id": "hNwCQ52c1iUE",
        "outputId": "c76dfaa7-5e38-405e-db55-109860e3032f"
      },
      "source": [
        "df.shape\r\n",
        "df.columns = [\"Review\"]\r\n",
        "df.head()"
      ],
      "execution_count": 21,
      "outputs": [
        {
          "output_type": "execute_result",
          "data": {
            "text/html": [
              "<div>\n",
              "<style scoped>\n",
              "    .dataframe tbody tr th:only-of-type {\n",
              "        vertical-align: middle;\n",
              "    }\n",
              "\n",
              "    .dataframe tbody tr th {\n",
              "        vertical-align: top;\n",
              "    }\n",
              "\n",
              "    .dataframe thead th {\n",
              "        text-align: right;\n",
              "    }\n",
              "</style>\n",
              "<table border=\"1\" class=\"dataframe\">\n",
              "  <thead>\n",
              "    <tr style=\"text-align: right;\">\n",
              "      <th></th>\n",
              "      <th>Review</th>\n",
              "    </tr>\n",
              "  </thead>\n",
              "  <tbody>\n",
              "    <tr>\n",
              "      <th>0</th>\n",
              "      <td>The gorgeously elaborate continuation of ``The...</td>\n",
              "    </tr>\n",
              "    <tr>\n",
              "      <th>1</th>\n",
              "      <td>Effective but too-tepid biopic</td>\n",
              "    </tr>\n",
              "    <tr>\n",
              "      <th>2</th>\n",
              "      <td>If you sometimes like to go to the movies to h...</td>\n",
              "    </tr>\n",
              "    <tr>\n",
              "      <th>3</th>\n",
              "      <td>Emerges as something rare, an issue movie that...</td>\n",
              "    </tr>\n",
              "    <tr>\n",
              "      <th>4</th>\n",
              "      <td>The film provides some great insight into the ...</td>\n",
              "    </tr>\n",
              "  </tbody>\n",
              "</table>\n",
              "</div>"
            ],
            "text/plain": [
              "                                              Review\n",
              "0  The gorgeously elaborate continuation of ``The...\n",
              "1                     Effective but too-tepid biopic\n",
              "2  If you sometimes like to go to the movies to h...\n",
              "3  Emerges as something rare, an issue movie that...\n",
              "4  The film provides some great insight into the ..."
            ]
          },
          "metadata": {
            "tags": []
          },
          "execution_count": 21
        }
      ]
    },
    {
      "cell_type": "markdown",
      "metadata": {
        "id": "mpQV96BgdsOv"
      },
      "source": [
        "This function goes through the words in a sentence to get the number of positive terms. "
      ]
    },
    {
      "cell_type": "code",
      "metadata": {
        "id": "qSd3xZMLcZlJ"
      },
      "source": [
        "def positive_score(post_dict, sentence):\n",
        "  words = sentence.split()\n",
        "  score = 0\n",
        "  for k in words:\n",
        "    if k in post_dict:\n",
        "      score += 1\n",
        "  return score"
      ],
      "execution_count": 14,
      "outputs": []
    },
    {
      "cell_type": "markdown",
      "metadata": {
        "id": "0FnSqVbwd1K3"
      },
      "source": [
        "This function goes through the sentence to get the number of negative words. "
      ]
    },
    {
      "cell_type": "code",
      "metadata": {
        "id": "uU64gwvoeIyD"
      },
      "source": [
        "def negative_score(neg_dict, sentence):\n",
        "  words = sentence.split()\n",
        "  score = 0\n",
        "  for k in words:\n",
        "    if k in neg_dict:\n",
        "      score += -1\n",
        "  return score"
      ],
      "execution_count": 19,
      "outputs": []
    },
    {
      "cell_type": "markdown",
      "metadata": {
        "id": "Ek4dkw7gemSl"
      },
      "source": [
        "After having these two functions, we pass them through each sentence and get both the positive and the negative scores. Based on the sign of the resulting score, we declare the sentence either positive, negative or neutral. "
      ]
    },
    {
      "cell_type": "markdown",
      "metadata": {
        "id": "1wSk3TYwf-cu"
      },
      "source": [
        "The final function returns whether the sentence is a positive, negative or neutral. "
      ]
    },
    {
      "cell_type": "code",
      "metadata": {
        "id": "MI29-W27gd9S"
      },
      "source": [
        "def classifier(post_dict, neg_dict, sentence):\n",
        "  score = positive_score(post_dict, sentence) + negative_score(neg_dict, sentence)\n",
        "  if score < 0:\n",
        "    return -1\n",
        "  elif score > 0:\n",
        "    return +1\n",
        "  else:\n",
        "    return 0"
      ],
      "execution_count": 16,
      "outputs": []
    },
    {
      "cell_type": "code",
      "metadata": {
        "id": "y8VbHxIhnkUL"
      },
      "source": [
        "sen = [\"The Rock is destined to be the 21st Century's new ``Conan'' and that he's going to make a splash even greater than Arnold Schwarzenegger, Jean-Claud Van Damme or Steven Segal.\",\n",
        "       \"The gorgeously elaborate continuation of ``The Lord of the Rings'' trilogy is so huge that a column of words cannot adequately describe co-writer/director Peter Jackson's expanded vision of J.R.R. Tolkien's Middle-earth.\",\n",
        "       \"If you sometimes like to go to the movies to have fun, Wasabi is a good place to start.\",\n",
        "       \"Emerges as something rare, an issue movie that's so honest and keenly observed that it doesn't feel like one.\",\n",
        "       \"The film provides some great insight into the neurotic mindset of all comics -- even those who have reached the absolute top of the game.\",\n",
        "       \"A disturbing and frighteningly evocative assembly of imagery and hypnotic music composed by Philip Glass.\"]"
      ],
      "execution_count": 17,
      "outputs": []
    },
    {
      "cell_type": "markdown",
      "metadata": {
        "id": "IxYEq9cYnh29"
      },
      "source": [
        "Examples "
      ]
    },
    {
      "cell_type": "code",
      "metadata": {
        "colab": {
          "base_uri": "https://localhost:8080/"
        },
        "id": "Rhssr8FVnhZ8",
        "outputId": "2e74c18a-15eb-4732-9a6d-ca3147170590"
      },
      "source": [
        "for s in sen:\n",
        "  n = classifier(good_indicators, bad_indicators, s)\n",
        "  print(s)\n",
        "  if n > 0:\n",
        "    print(\"Positive review\")\n",
        "  elif n < 0:\n",
        "    print(\"Negative review\")\n",
        "  else:\n",
        "    print(\"Neutral review\")"
      ],
      "execution_count": 20,
      "outputs": [
        {
          "output_type": "stream",
          "text": [
            "The Rock is destined to be the 21st Century's new ``Conan'' and that he's going to make a splash even greater than Arnold Schwarzenegger, Jean-Claud Van Damme or Steven Segal.\n",
            "Neutral review\n",
            "The gorgeously elaborate continuation of ``The Lord of the Rings'' trilogy is so huge that a column of words cannot adequately describe co-writer/director Peter Jackson's expanded vision of J.R.R. Tolkien's Middle-earth.\n",
            "Positive review\n",
            "If you sometimes like to go to the movies to have fun, Wasabi is a good place to start.\n",
            "Positive review\n",
            "Emerges as something rare, an issue movie that's so honest and keenly observed that it doesn't feel like one.\n",
            "Positive review\n",
            "The film provides some great insight into the neurotic mindset of all comics -- even those who have reached the absolute top of the game.\n",
            "Positive review\n",
            "A disturbing and frighteningly evocative assembly of imagery and hypnotic music composed by Philip Glass.\n",
            "Negative review\n"
          ],
          "name": "stdout"
        }
      ]
    },
    {
      "cell_type": "code",
      "metadata": {
        "id": "Rsq0QXIHt6Rf"
      },
      "source": [
        "df['Label'] = classifier(good_indicators, bad_indicators,str(df['Review']))"
      ],
      "execution_count": 25,
      "outputs": []
    },
    {
      "cell_type": "code",
      "metadata": {
        "colab": {
          "base_uri": "https://localhost:8080/",
          "height": 206
        },
        "id": "wq-_XRB8uH_5",
        "outputId": "b15946eb-54f7-46a8-f10f-7e03be35e8c4"
      },
      "source": [
        "df.head()"
      ],
      "execution_count": 28,
      "outputs": [
        {
          "output_type": "execute_result",
          "data": {
            "text/html": [
              "<div>\n",
              "<style scoped>\n",
              "    .dataframe tbody tr th:only-of-type {\n",
              "        vertical-align: middle;\n",
              "    }\n",
              "\n",
              "    .dataframe tbody tr th {\n",
              "        vertical-align: top;\n",
              "    }\n",
              "\n",
              "    .dataframe thead th {\n",
              "        text-align: right;\n",
              "    }\n",
              "</style>\n",
              "<table border=\"1\" class=\"dataframe\">\n",
              "  <thead>\n",
              "    <tr style=\"text-align: right;\">\n",
              "      <th></th>\n",
              "      <th>Review</th>\n",
              "      <th>Label</th>\n",
              "    </tr>\n",
              "  </thead>\n",
              "  <tbody>\n",
              "    <tr>\n",
              "      <th>0</th>\n",
              "      <td>The gorgeously elaborate continuation of ``The...</td>\n",
              "      <td>1</td>\n",
              "    </tr>\n",
              "    <tr>\n",
              "      <th>1</th>\n",
              "      <td>Effective but too-tepid biopic</td>\n",
              "      <td>1</td>\n",
              "    </tr>\n",
              "    <tr>\n",
              "      <th>2</th>\n",
              "      <td>If you sometimes like to go to the movies to h...</td>\n",
              "      <td>1</td>\n",
              "    </tr>\n",
              "    <tr>\n",
              "      <th>3</th>\n",
              "      <td>Emerges as something rare, an issue movie that...</td>\n",
              "      <td>1</td>\n",
              "    </tr>\n",
              "    <tr>\n",
              "      <th>4</th>\n",
              "      <td>The film provides some great insight into the ...</td>\n",
              "      <td>1</td>\n",
              "    </tr>\n",
              "  </tbody>\n",
              "</table>\n",
              "</div>"
            ],
            "text/plain": [
              "                                              Review  Label\n",
              "0  The gorgeously elaborate continuation of ``The...      1\n",
              "1                     Effective but too-tepid biopic      1\n",
              "2  If you sometimes like to go to the movies to h...      1\n",
              "3  Emerges as something rare, an issue movie that...      1\n",
              "4  The film provides some great insight into the ...      1"
            ]
          },
          "metadata": {
            "tags": []
          },
          "execution_count": 28
        }
      ]
    }
  ]
}